{
 "cells": [
  {
   "cell_type": "markdown",
   "metadata": {},
   "source": [
    "- 古典制御 $\\cdots$伝達関数モデルを用いて設計するもの\n",
    "- 現代制御 $\\cdots$ 状態空間モデルを用いて設計するもの\n",
    "- ロバスト制御 $\\cdots$ 上記二つの発展．古典制御と現代制御のいいとこどり\n",
    "\n",
    "学問の発展の時系列的には上から下に進む．今から学ぶ人は特に区別せずに必要なところをやればいい．"
   ]
  },
  {
   "cell_type": "markdown",
   "metadata": {},
   "source": [
    "## 制御とは\n",
    "「<font color=\"HotPink\">注目している対象物</font>に属する<font color=\"DimGray\">注目している状態</font>が，何らかの<font color=\"LightSeaGreen\">目標とする状態</font>になるように，その対象物に<font color=\"RoyalBlue\">操作を加える</font>行為」を制御という．"
   ]
  },
  {
   "cell_type": "markdown",
   "metadata": {},
   "source": [
    "### 制御入力の設計\n",
    "制御の定義自体が\"私が\"という主観まみれのため，\n",
    "- 試行錯誤の設計はよくない\n",
    "- **設計思想を明確にする必要がある**"
   ]
  },
  {
   "cell_type": "markdown",
   "metadata": {},
   "source": [
    "#### (例) 自動車(手動制御)  \n",
    "<font color=\"HotPink\">注目している対象物</font>:自動車  \n",
    "<font color=\"DimGray\">注目している状態</font>:自動車の進行方向  \n",
    "<font color=\"LightSeaGreen\">目標とする状態</font>:道路に沿って走行する  \n",
    "<font color=\"RoyalBlue\">操作を加える</font>:ハンドルを操作"
   ]
  },
  {
   "cell_type": "markdown",
   "metadata": {},
   "source": [
    "#### (例) セグウェイ(自動制御)  \n",
    "<font color=\"HotPink\">注目している対象物</font>:セグウェイ  \n",
    "<font color=\"DimGray\">注目している状態</font>:姿勢  \n",
    "<font color=\"LightSeaGreen\">目標とする状態</font>:まっすぐ立つ  \n",
    "<font color=\"RoyalBlue\">操作を加える</font>:車輪モータを操作"
   ]
  },
  {
   "cell_type": "markdown",
   "metadata": {},
   "source": [
    "### フィードバック制御\n",
    "結果を見て次の行動を制御する．ブロック線図で各状態を表す．\n",
    "1. 直立している？\n",
    "1. 制御器(モータ)\n",
    "1. 制御対象(ロボット)←ここに外乱(風など)\n",
    "1. センサなどで確認し，偏差を制御器に入力\\[フィードバック\\]\n",
    "\n",
    "の繰り返し．"
   ]
  },
  {
   "cell_type": "markdown",
   "metadata": {},
   "source": [
    "### 制御器設計の流れ\n",
    "1. 制御目的を定式化し，制御仕様にする(制御対象をモデル化し，対象の本質をとらえる「数学モデル」に)\n",
    "1. 「数学モデル」から目標状態にする方法である「制御則」を設計して評価する\n",
    "1. 実装"
   ]
  },
  {
   "cell_type": "code",
   "execution_count": null,
   "metadata": {},
   "outputs": [],
   "source": []
  }
 ],
 "metadata": {
  "kernelspec": {
   "display_name": "Python 3",
   "language": "python",
   "name": "python3"
  },
  "language_info": {
   "codemirror_mode": {
    "name": "ipython",
    "version": 3
   },
   "file_extension": ".py",
   "mimetype": "text/x-python",
   "name": "python",
   "nbconvert_exporter": "python",
   "pygments_lexer": "ipython3",
   "version": "3.6.5"
  }
 },
 "nbformat": 4,
 "nbformat_minor": 2
}
