{
 "cells": [
  {
   "cell_type": "code",
   "execution_count": 1,
   "metadata": {},
   "outputs": [],
   "source": [
    "#!/usr/bin/env python3\n",
    "# -*- coding: utf-8 -*-"
   ]
  },
  {
   "cell_type": "markdown",
   "metadata": {},
   "source": [
    "## 数式処理で方程式の解を求める"
   ]
  },
  {
   "cell_type": "code",
   "execution_count": 16,
   "metadata": {},
   "outputs": [],
   "source": [
    "from scipy.integrate import odeint\n",
    "import matplotlib.pyplot as plt\n",
    "import numpy as np\n",
    "import sympy as sym\n",
    "# sp.init_printing()  # 本来はjupyter上での可視化で必要らしいが，ハングアウトするので不要"
   ]
  },
  {
   "cell_type": "code",
   "execution_count": 3,
   "metadata": {},
   "outputs": [
    {
     "name": "stdout",
     "output_type": "stream",
     "text": [
      "The answer to the equation: 2*s**2 + 5*s + 3 is [-3/2, -1]\n",
      "The answer to the equation: s**3 + s**2 + s + 1 is [-1, -I, I]\n"
     ]
    }
   ],
   "source": [
    "s = sym.Symbol('s')\n",
    "e1 = 2 * s**2 + 5 * s + 3\n",
    "e2 = s**3 + s**2 + s + 1\n",
    "\n",
    "p1 = sym.solve(e1, s)\n",
    "p2 = sym.solve(e2, s)\n",
    "\n",
    "print('The answer to the equation:', e1, 'is', p1)\n",
    "print('The answer to the equation:', e2, 'is', p2)"
   ]
  },
  {
   "cell_type": "markdown",
   "metadata": {},
   "source": [
    "#### sympyおまけ"
   ]
  },
  {
   "cell_type": "code",
   "execution_count": 4,
   "metadata": {},
   "outputs": [
    {
     "data": {
      "text/latex": [
       "$\\displaystyle 2 s^{2} + 5 s + 3$"
      ],
      "text/plain": [
       "2*s**2 + 5*s + 3"
      ]
     },
     "execution_count": 4,
     "metadata": {},
     "output_type": "execute_result"
    }
   ],
   "source": [
    "e1  # 数式が表示できる"
   ]
  },
  {
   "cell_type": "code",
   "execution_count": 11,
   "metadata": {},
   "outputs": [
    {
     "name": "stdout",
     "output_type": "stream",
     "text": [
      "\\frac{\\sqrt{6}}{3}\n"
     ]
    }
   ],
   "source": [
    "# latexコマンドも出力可能，上の出力欄の数式を右クリック->show math as でも可\n",
    "frac = sym.sqrt(sym.Rational(2, 3))\n",
    "print(sym.latex(frac))"
   ]
  },
  {
   "cell_type": "code",
   "execution_count": 15,
   "metadata": {},
   "outputs": [
    {
     "name": "stdout",
     "output_type": "stream",
     "text": [
      "⌠           \n",
      "⎮     ___   \n",
      "⎮    ╱ 1    \n",
      "⎮   ╱  ─  ds\n",
      "⎮ ╲╱   s    \n",
      "⌡           \n"
     ]
    }
   ],
   "source": [
    "# アスキーアートもかける\n",
    "sym.pprint(sym.Integral(sym.sqrt(1 / s), s), use_unicode=True)"
   ]
  },
  {
   "cell_type": "markdown",
   "metadata": {},
   "source": [
    "## 微分方程式を解く"
   ]
  },
  {
   "cell_type": "code",
   "execution_count": 17,
   "metadata": {},
   "outputs": [],
   "source": [
    "def system(y, t):\n",
    "    if t < 10.0:\n",
    "        u = 0\n",
    "    else:\n",
    "        u = 1\n",
    "    dydt = (-y + u) / 5.0\n",
    "    return dydt"
   ]
  },
  {
   "cell_type": "code",
   "execution_count": 18,
   "metadata": {},
   "outputs": [],
   "source": [
    "y0 = 0.5\n",
    "t = np.arange(0, 40, 0.04)\n",
    "y = odeint(system, y0, t)"
   ]
  },
  {
   "cell_type": "code",
   "execution_count": 23,
   "metadata": {},
   "outputs": [
    {
     "data": {
      "image/png": "[encoded data removed]",
      "text/plain": [
       "<Figure size 432x288 with 1 Axes>"
      ]
     },
     "metadata": {
      "needs_background": "light"
     },
     "output_type": "display_data"
    }
   ],
   "source": [
    "fig, ax = plt.subplots()\n",
    "ax.plot(t, y, 'r-', label='Output (y(t))')\n",
    "ax.plot([0, 10, 10, 40], [0, 0, 1, 1], 'b-', label='Input (u(t))')\n",
    "ax.set_xlabel('Time [s]')\n",
    "ax.set_ylabel('Values')\n",
    "ax.grid(True)\n",
    "ax.legend(loc='best')\n",
    "plt.show()"
   ]
  },
  {
   "cell_type": "code",
   "execution_count": null,
   "metadata": {},
   "outputs": [],
   "source": []
  }
 ],
 "metadata": {
  "kernelspec": {
   "display_name": "control_py36",
   "language": "python",
   "name": "control_py36"
  },
  "language_info": {
   "codemirror_mode": {
    "name": "ipython",
    "version": 3
   },
   "file_extension": ".py",
   "mimetype": "text/x-python",
   "name": "python",
   "nbconvert_exporter": "python",
   "pygments_lexer": "ipython3",
   "version": "3.6.10"
  }
 },
 "nbformat": 4,
 "nbformat_minor": 2
}
